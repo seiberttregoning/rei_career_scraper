{
 "cells": [
  {
   "cell_type": "code",
   "execution_count": 143,
   "metadata": {},
   "outputs": [],
   "source": [
    "import requests\n",
    "\n",
    "from bs4 import BeautifulSoup\n",
    "\n",
    "import smtplib\n",
    "\n",
    "from email.message import EmailMessage\n",
    "\n",
    "from datetime import datetime, timedelta, date"
   ]
  },
  {
   "cell_type": "code",
   "execution_count": 144,
   "metadata": {},
   "outputs": [],
   "source": [
    "yesterday = date.today() - timedelta(days=1)\n",
    "\n",
    "brentwood_rei_url = 'https://rei.jobs/careers/SearchJobs/?3_73_3=37158&jobSort=postedDate&jobSortDirection=DESC&'\n",
    "lebanon_rei_url = 'https://rei.jobs/careers/SearchJobs/?3_73_3=5813561&jobSort=postedDate&jobSortDirection=DESC&'\n",
    "chattanooga_rei_url = 'https://rei.jobs/careers/SearchJobs/?3_73_3=2217122&jobSort=postedDate&jobSortDirection=DESC&'"
   ]
  },
  {
   "cell_type": "code",
   "execution_count": 145,
   "metadata": {},
   "outputs": [],
   "source": [
    "def get_job_titles(url, dict_to_append):\n",
    "    r = requests.get(url)\n",
    "    soup = BeautifulSoup(r.text, 'html.parser')\n",
    "    joblist = soup.find('ul', class_='jobList')\n",
    "    for li in joblist.find_all('li', class_=\"group\"):\n",
    "        title = li.find('a').get('title')\n",
    "        link = li.find('a').get('href')\n",
    "        if li.find('p') is None:\n",
    "            pass\n",
    "        else:\n",
    "            date_str = li.find('p').find_all('span')[1].text.split(' ', 1)[1]\n",
    "            date_obj = datetime.strptime(date_str, '%m-%d-%Y').date()\n",
    "             \n",
    "        dict_to_append.update({link:[title, date_obj]})"
   ]
  },
  {
   "cell_type": "code",
   "execution_count": 146,
   "metadata": {},
   "outputs": [],
   "source": [
    "job_dict = {}\n",
    "\n",
    "get_job_titles(brentwood_rei_url, job_dict)\n",
    "get_job_titles(lebanon_rei_url, job_dict)\n",
    "get_job_titles(chattanooga_rei_url, job_dict)"
   ]
  },
  {
   "cell_type": "code",
   "execution_count": 147,
   "metadata": {},
   "outputs": [],
   "source": [
    "new_jobs_str = ''\n",
    "\n",
    "for (k,v) in job_dict.items():\n",
    "    if v[1] > yesterday:\n",
    "        new_jobs_str += f'{str(v[0])}\\n{k}\\n\\n'\n",
    "    else:\n",
    "        pass"
   ]
  },
  {
   "cell_type": "code",
   "execution_count": 148,
   "metadata": {},
   "outputs": [
    {
     "name": "stdout",
     "output_type": "stream",
     "text": [
      "Successfully sent email\n"
     ]
    }
   ],
   "source": [
    "if len(new_jobs_str) == 0:\n",
    "    print('No new jobs')\n",
    "else:\n",
    "    smtpHost = 'smtp.office365.com'\n",
    "    smtpPort = 587\n",
    "    sender = 'georgetregoning@gmail.com'\n",
    "    with open('outlookpassword.txt') as f:\n",
    "        password = f.readlines()[0]\n",
    "\n",
    "    receiver = ['georgetregoning@gmail.com']\n",
    "    \n",
    "    subject = \"New Brentwood-Chatt-Lebanon REI Jobs\"\n",
    "    # Add the From: and To: headers at the start!\n",
    "    message = (\"From: %s\\r\\nTo: %s\\r\\nSubject: %s\\r\\n\\r\\n\"\n",
    "       % (sender, \", \".join(receiver), subject))\n",
    "    message += new_jobs_str\n",
    "    \n",
    "    try:\n",
    "        smtpObj = smtplib.SMTP(smtpHost, smtpPort)\n",
    "        #smtpObj.set_debuglevel(1)\n",
    "        smtpObj.ehlo()\n",
    "        smtpObj.starttls()\n",
    "        smtpObj.ehlo()    \n",
    "        smtpObj.login(sender,password)\n",
    "        smtpObj.sendmail(sender, receiver, message)\n",
    "        smtpObj.quit()\n",
    "        print (\"Successfully sent email\")\n",
    "    except:\n",
    "        print (\"Error: unable to send email\")"
   ]
  },
  {
   "cell_type": "code",
   "execution_count": null,
   "metadata": {},
   "outputs": [],
   "source": []
  }
 ],
 "metadata": {
  "kernelspec": {
   "display_name": "Python 3",
   "language": "python",
   "name": "python3"
  },
  "language_info": {
   "codemirror_mode": {
    "name": "ipython",
    "version": 3
   },
   "file_extension": ".py",
   "mimetype": "text/x-python",
   "name": "python",
   "nbconvert_exporter": "python",
   "pygments_lexer": "ipython3",
   "version": "3.7.6"
  }
 },
 "nbformat": 4,
 "nbformat_minor": 4
}
